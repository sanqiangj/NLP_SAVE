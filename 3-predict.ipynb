{
 "cells": [
  {
   "cell_type": "markdown",
   "metadata": {},
   "source": [
    "# Predict\n",
    "This file is used to predict the result with trained model,\n",
    "\n",
    "load checkpoint from model-result/checkpoint-xxxx,\n",
    "\n",
    "save result to output/dataset.model.checkpoint.csv\n",
    "\n",
    "Author: Xiaofeng Zhang\n",
    "\n",
    "Email: Xiaofzhang1@student.unimelb.edu.au\n",
    "\n",
    "SID: 1194655\n"
   ]
  },
  {
   "cell_type": "code",
   "execution_count": 1,
   "metadata": {},
   "outputs": [],
   "source": [
    "from transformers import AutoModelForSequenceClassification, DataCollatorWithPadding, AutoTokenizer\n",
    "import torch\n",
    "import numpy as np \n",
    "import os"
   ]
  },
  {
   "cell_type": "code",
   "execution_count": 2,
   "metadata": {},
   "outputs": [],
   "source": [
    "from datasets import load_from_disk\n",
    "rumour = load_from_disk(\"./data/rumour\")"
   ]
  },
  {
   "cell_type": "markdown",
   "metadata": {},
   "source": [
    "# Predict all checkpoint"
   ]
  },
  {
   "cell_type": "code",
   "execution_count": 9,
   "metadata": {},
   "outputs": [],
   "source": [
    "'''\n",
    "predict result with bert-base model\n",
    "'''\n",
    "tokenizer = AutoTokenizer.from_pretrained(\"bert-base-uncased\")\n",
    "# tokenize text and truncate sequence to be no longer than maximum input of \"Distilber\"\n",
    "def preprocess_function(examples):\n",
    "    return tokenizer(examples[\"text\"], truncation=True)\n",
    "tokenized_rumour = rumour.map(preprocess_function, batched=True)\n",
    "from transformers import DataCollatorWithPadding\n",
    "\n",
    "data_collator = DataCollatorWithPadding(tokenizer=tokenizer)\n",
    "\n",
    "respath =\"bert-results\"\n",
    "model_names = os.listdir(\"bert-results\")\n",
    "dataset = \"test\"\n",
    "\n",
    "for model_name in model_names:\n",
    "    modle_path=os.path.join(respath,model_name)\n",
    "    model = AutoModelForSequenceClassification.from_pretrained(modle_path, num_labels=2)\n",
    "    model.eval()\n",
    "    with open (\"./output/\"+dataset+'.'+respath+'.'+model_name+\".csv\",\"w\") as f:\n",
    "        f.write(\"Id,Predicted\\n\")# heading \n",
    "        for i in range(len(tokenized_rumour[dataset])):\n",
    "                \n",
    "                _input = tokenized_rumour[dataset][i]['input_ids']\n",
    "                _mask = tokenized_rumour[dataset][i]['attention_mask']\n",
    "                model.to(\"cuda\")\n",
    "                _input = torch.tensor(_input).unsqueeze(0).to(\"cuda\")\n",
    "                _mask = torch.tensor(_mask).unsqueeze(0).to(\"cuda\")\n",
    "                \n",
    "                y=model(input_ids=_input)\n",
    "                res = np.argmax(y.logits.detach().cpu().numpy())\n",
    "                f.write(\"{0},{1}\\n\".format(i,res))\n",
    "                "
   ]
  },
  {
   "cell_type": "code",
   "execution_count": 3,
   "metadata": {},
   "outputs": [
    {
     "data": {
      "application/vnd.jupyter.widget-view+json": {
       "model_id": "afd5c0bebda3467b8bb1f3bc2c874dae",
       "version_major": 2,
       "version_minor": 0
      },
      "text/plain": [
       "  0%|          | 0/2 [00:00<?, ?ba/s]"
      ]
     },
     "metadata": {},
     "output_type": "display_data"
    },
    {
     "data": {
      "application/vnd.jupyter.widget-view+json": {
       "model_id": "067ca5c529fa4af98cc0f4b66edeac20",
       "version_major": 2,
       "version_minor": 0
      },
      "text/plain": [
       "  0%|          | 0/1 [00:00<?, ?ba/s]"
      ]
     },
     "metadata": {},
     "output_type": "display_data"
    }
   ],
   "source": [
    "'''\n",
    "predict result of distilbert model\n",
    "'''\n",
    "tokenizer = AutoTokenizer.from_pretrained(\"distilbert-base-uncased\")\n",
    "# tokenize text and truncate sequence to be no longer than maximum input of \"Distilber\"\n",
    "def preprocess_function(examples):\n",
    "    return tokenizer(examples[\"text\"], truncation=True)\n",
    "tokenized_rumour = rumour.map(preprocess_function, batched=True)\n",
    "from transformers import DataCollatorWithPadding\n",
    "\n",
    "data_collator = DataCollatorWithPadding(tokenizer=tokenizer)\n",
    "\n",
    "respath =\"distilbert-results_s\"\n",
    "model_names = os.listdir(respath)\n",
    "dataset = \"dev\"\n",
    "\n",
    "for model_name in model_names:\n",
    "    modle_path=os.path.join(respath,model_name)\n",
    "    model = AutoModelForSequenceClassification.from_pretrained(modle_path, num_labels=2)\n",
    "    model.eval()\n",
    "    with open (\"./output/\"+dataset+'.'+respath+'.'+model_name+\".csv\",\"w\") as f:\n",
    "        f.write(\"Id,Predicted\\n\")# heading \n",
    "        for i in range(len(tokenized_rumour[dataset])):\n",
    "                \n",
    "                _input = tokenized_rumour[dataset][i]['input_ids']\n",
    "                _mask = tokenized_rumour[dataset][i]['attention_mask']\n",
    "                model.to(\"cuda\")\n",
    "                _input = torch.tensor(_input).unsqueeze(0).to(\"cuda\")\n",
    "                _mask = torch.tensor(_mask).unsqueeze(0).to(\"cuda\")\n",
    "                \n",
    "                y=model(input_ids=_input)\n",
    "                res = np.argmax(y.logits.detach().cpu().numpy())\n",
    "                f.write(\"{0},{1}\\n\".format(i,res))\n",
    "                "
   ]
  }
 ],
 "metadata": {
  "interpreter": {
   "hash": "858a027402f8a491f6ad0808024d199fce3944cfb72e60e38734051a8b0d4797"
  },
  "kernelspec": {
   "display_name": "Python 3.9.12 ('nlp-proj')",
   "language": "python",
   "name": "python3"
  },
  "language_info": {
   "codemirror_mode": {
    "name": "ipython",
    "version": 3
   },
   "file_extension": ".py",
   "mimetype": "text/x-python",
   "name": "python",
   "nbconvert_exporter": "python",
   "pygments_lexer": "ipython3",
   "version": "3.9.12"
  },
  "orig_nbformat": 4
 },
 "nbformat": 4,
 "nbformat_minor": 2
}
