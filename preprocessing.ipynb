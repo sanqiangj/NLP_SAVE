{
 "cells": [
  {
   "cell_type": "markdown",
   "source": [
    "# Preprocessing\n",
    "This file is used to do the preprocessing on the dataset."
   ],
   "metadata": {
    "collapsed": false,
    "pycharm": {
     "name": "#%% md\n"
    }
   }
  },
  {
   "cell_type": "code",
   "execution_count": 7,
   "metadata": {
    "collapsed": true,
    "pycharm": {
     "name": "#%%\n"
    }
   },
   "outputs": [],
   "source": [
    "# import tweeter data\n",
    "import numpy as np\n",
    "\n",
    "data = dict(np.load('./tweets.npy', allow_pickle=True).item())"
   ]
  },
  {
   "cell_type": "code",
   "execution_count": null,
   "outputs": [],
   "source": [
    "# clean the text. remove tag, at, html and emoji\n",
    "import re\n",
    "def data_cleaning(str, tag=True, at=True, html=True, emoji=True):\n",
    "    tmp = str\n",
    "    if tag:\n",
    "        tmp = re.sub('#[^ ]* ', '', tmp)\n",
    "    if at:\n",
    "        tmp = re.sub('@[^ ]* ', '', tmp)\n",
    "    if html:\n",
    "        tmp = re.sub('http://[^ ‘“”]*', '', tmp)\n",
    "    if emoji:\n",
    "        tmp = re.sub(u'[\\U00010000-\\U0010ffff]', '', tmp)\n",
    "    return tmp"
   ],
   "metadata": {
    "collapsed": false,
    "pycharm": {
     "name": "#%%\n"
    }
   }
  },
  {
   "cell_type": "code",
   "execution_count": null,
   "outputs": [],
   "source": [
    "# deal with invalid tweets\n",
    "for id in data:\n",
    "    v = data[id]\n",
    "    if v == 'Authorization Error' or v == 'Not Found Error':\n",
    "        data[id] = {'text': ''}\n",
    "    else:\n",
    "        str = v['text']\n",
    "        v['text'] = data_cleaning(str)\n",
    "\n",
    "np.save('./tweets-clean.npy', data)"
   ],
   "metadata": {
    "collapsed": false,
    "pycharm": {
     "name": "#%%\n"
    }
   }
  }
 ],
 "metadata": {
  "kernelspec": {
   "name": "pycharm-35aaf632",
   "language": "python",
   "display_name": "PyCharm (workspace)"
  },
  "language_info": {
   "codemirror_mode": {
    "name": "ipython",
    "version": 2
   },
   "file_extension": ".py",
   "mimetype": "text/x-python",
   "name": "python",
   "nbconvert_exporter": "python",
   "pygments_lexer": "ipython2",
   "version": "2.7.6"
  }
 },
 "nbformat": 4,
 "nbformat_minor": 0
}