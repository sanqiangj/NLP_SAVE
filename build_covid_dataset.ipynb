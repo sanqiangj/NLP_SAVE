{
 "cells": [
  {
   "cell_type": "code",
   "execution_count": 2,
   "id": "2b999295",
   "metadata": {
    "ExecuteTime": {
     "end_time": "2022-05-12T08:27:55.978678Z",
     "start_time": "2022-05-12T08:27:54.059012Z"
    }
   },
   "outputs": [],
   "source": [
    "#create covid dataset from covid.npy and save it in covid/test\n",
    "\n",
    "from datasets import load_dataset\n",
    "import numpy as np\n",
    "from datasets import Dataset\n",
    "import re"
   ]
  },
  {
   "cell_type": "code",
   "execution_count": 3,
   "id": "fa188466",
   "metadata": {
    "ExecuteTime": {
     "end_time": "2022-05-12T08:27:56.458644Z",
     "start_time": "2022-05-12T08:27:55.980673Z"
    }
   },
   "outputs": [],
   "source": [
    "#Load Covid Dict\n",
    "tweets=np.load(\"covid.npy\",allow_pickle=True).item()"
   ]
  },
  {
   "cell_type": "code",
   "execution_count": 5,
   "id": "827109fd",
   "metadata": {
    "ExecuteTime": {
     "end_time": "2022-05-12T08:27:58.437989Z",
     "start_time": "2022-05-12T08:27:58.269053Z"
    }
   },
   "outputs": [],
   "source": [
    "# build train dataset\n",
    "def build_dict(data,label=None):\n",
    "    _dict = {\"text\":[],\"label\":[]}\n",
    "    with open(data,\"r\") as data:\n",
    "        if label is not None:\n",
    "            with open(label,\"r\") as label:\n",
    "                tid_list = data.readlines()\n",
    "                label_list = label.readlines()\n",
    "                assert(len(tid_list)==len(label_list))\n",
    "                for i in range(len(tid_list)): # each line of sample\n",
    "                    tids = tid_list[i]\n",
    "                    _label = label_list[i].replace(\"\\n\",\"\")\n",
    "                    if _label == \"rumour\":\n",
    "                        _label = 1\n",
    "                    elif _label == \"nonrumour\":\n",
    "                        _label = 0\n",
    "                    tids = tids.replace(\"\\n\",\"\")\n",
    "                    tids = tids.split(\",\")\n",
    "                    text =\"\"\n",
    "                    for tid in tids: # each entity of a line\n",
    "                        t = tweets[tid]\n",
    "                        if type(t) is type(dict()):\n",
    "                            _text = t[\"text\"]\n",
    "                            _text = _text.replace(\"\\n\",\"\")\n",
    "                            #print(results)\n",
    "                            _text= re.sub('http[s]?://\\S+', '', _text)\n",
    "                            text+=_text\n",
    "                            #print(_text)\n",
    "                    #print(text)\n",
    "                    #print(\"=\"*20,_label)\n",
    "                    _dict[\"text\"].append(text)\n",
    "                    _dict[\"label\"].append(_label)\n",
    "        else:\n",
    "            tid_list = data.readlines()\n",
    "            for i in range(len(tid_list)): # each line of sample\n",
    "                tids = tid_list[i]\n",
    "                _label = -1\n",
    "                tids = tids.replace(\"\\n\",\"\")\n",
    "                tids = tids.split(\",\")\n",
    "                text =\"\"\n",
    "                for tid in tids:\n",
    "                    t = tweets[tid]\n",
    "                    if type(t) is type(dict()):\n",
    "                        _text = t[\"text\"]\n",
    "                        _text = _text.replace(\"\\n\",\"\")\n",
    "                        _text= re.sub('http[s]?://\\S+', '', _text)\n",
    "                        text+=_text\n",
    "                _dict[\"text\"].append(text)\n",
    "                _dict[\"label\"].append(_label)\n",
    "\n",
    "    return _dict\n",
    "\n",
    "covid_dict = build_dict(\"covid.data.txt\")"
   ]
  },
  {
   "cell_type": "code",
   "execution_count": 9,
   "id": "bd2183a4",
   "metadata": {
    "ExecuteTime": {
     "end_time": "2022-05-12T08:29:06.478184Z",
     "start_time": "2022-05-12T08:29:06.443278Z"
    }
   },
   "outputs": [],
   "source": [
    "covid_set = Dataset.from_dict(covid_dict)"
   ]
  },
  {
   "cell_type": "code",
   "execution_count": null,
   "id": "bb2dfad3",
   "metadata": {},
   "outputs": [],
   "source": [
    "covid_set.save_to_disk(\"./covid/test\")"
   ]
  }
 ],
 "metadata": {
  "kernelspec": {
   "display_name": "Python 3 (ipykernel)",
   "language": "python",
   "name": "python3"
  },
  "language_info": {
   "codemirror_mode": {
    "name": "ipython",
    "version": 3
   },
   "file_extension": ".py",
   "mimetype": "text/x-python",
   "name": "python",
   "nbconvert_exporter": "python",
   "pygments_lexer": "ipython3",
   "version": "3.8.13"
  }
 },
 "nbformat": 4,
 "nbformat_minor": 5
}
