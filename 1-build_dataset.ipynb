{
 "cells": [
  {
   "cell_type": "markdown",
   "metadata": {},
   "source": [
    "# Build dataset\n",
    "\n",
    "This file is used to build the huggingface form dataset from tweet data,\n",
    "\n",
    "dataset saved to /data/rumor\n",
    "\n",
    "Author: Xiaofeng Zhang\n",
    "\n",
    "Email: Xiaofzhang1@student.unimelb.edu.au\n",
    "\n",
    "SID: 1194655\n",
    "\n",
    "Reference: https://huggingface.co/docs/transformers/main/en/training#prepare-a-dataset"
   ]
  },
  {
   "cell_type": "code",
   "execution_count": 1,
   "metadata": {},
   "outputs": [],
   "source": [
    "from datasets import load_dataset\n",
    "from datasets import Dataset\n",
    "import numpy as np"
   ]
  },
  {
   "cell_type": "markdown",
   "metadata": {},
   "source": [
    "# Load data "
   ]
  },
  {
   "cell_type": "code",
   "execution_count": 2,
   "metadata": {},
   "outputs": [],
   "source": [
    "#Load tweet Dict\n",
    "tweets=np.load(\"tweets.npy\",allow_pickle=True).item()"
   ]
  },
  {
   "cell_type": "markdown",
   "metadata": {},
   "source": [
    "# Build dataset"
   ]
  },
  {
   "cell_type": "code",
   "execution_count": 13,
   "metadata": {},
   "outputs": [],
   "source": [
    "# build train dataset\n",
    "import re\n",
    "def build_dict(data,label=None):\n",
    "    _dict = {\"text\":[],\"label\":[]}\n",
    "    with open(data,\"r\") as data:\n",
    "        if label is not None:\n",
    "            with open(label,\"r\") as label:\n",
    "                tid_list = data.readlines()\n",
    "                label_list = label.readlines()\n",
    "                assert(len(tid_list)==len(label_list))\n",
    "                for i in range(len(tid_list)): # each line of sample\n",
    "                    tids = tid_list[i]\n",
    "                    _label = label_list[i].replace(\"\\n\",\"\")\n",
    "                    if _label == \"rumour\":\n",
    "                        _label = 1\n",
    "                    elif _label == \"nonrumour\":\n",
    "                        _label = 0\n",
    "                    tids = tids.replace(\"\\n\",\"\")\n",
    "                    tids = tids.split(\",\")\n",
    "                    text =\"\"\n",
    "                    for tid in tids: # each entity of a line\n",
    "                        t = tweets[tid]\n",
    "                        if type(t) is type(dict()):\n",
    "                            _text = t[\"text\"]\n",
    "                            _text = _text.replace(\"\\n\",\"\")\n",
    "                            #print(results)\n",
    "                            _text= re.sub('http[s]?://\\S+', '', _text)\n",
    "                            text+=_text\n",
    "                            #print(_text)\n",
    "                    #print(text)\n",
    "                    #print(\"=\"*20,_label)\n",
    "                    _dict[\"text\"].append(text)\n",
    "                    _dict[\"label\"].append(_label)\n",
    "        else:\n",
    "            tid_list = data.readlines()\n",
    "            for i in range(len(tid_list)): # each line of sample\n",
    "                tids = tid_list[i]\n",
    "                _label = -1\n",
    "                tids = tids.replace(\"\\n\",\"\")\n",
    "                tids = tids.split(\",\")\n",
    "                text =\"\"\n",
    "                for tid in tids: # each entity of a line\n",
    "                    t = tweets[tid]\n",
    "                    if type(t) is type(dict()):\n",
    "                        _text = t[\"text\"]\n",
    "                        _text = _text.replace(\"\\n\",\"\")\n",
    "                        #print(results)\n",
    "                        _text= re.sub('http[s]?://\\S+', '', _text)\n",
    "                        text+=_text\n",
    "                        #print(_text)\n",
    "                #print(text)\n",
    "                #print(\"=\"*20,_label)\n",
    "                _dict[\"text\"].append(text)\n",
    "                _dict[\"label\"].append(_label)\n",
    "\n",
    "    return _dict\n",
    "train_dict=build_dict(\"train.data.txt\",\"train.label.txt\")\n",
    "dev_dict = build_dict(\"dev.data.txt\",\"dev.label.txt\")\n",
    "test_dict = build_dict(\"test.data.txt\")"
   ]
  },
  {
   "cell_type": "code",
   "execution_count": null,
   "metadata": {},
   "outputs": [],
   "source": [
    "# save dataset\n",
    "train_set = Dataset.from_dict(train_dict)\n",
    "dev_set = Dataset.from_dict(dev_dict)\n",
    "test_set = Dataset.from_dict(test_dict)\n",
    "\n",
    "from datasets import dataset_dict\n",
    "data_dict = {\"train\":train_set,\"dev\":dev_set,\"test\":test_set} \n",
    "dataset=dataset_dict.DatasetDict(data_dict)\n",
    "print(dataset)\n",
    "dataset.save_to_disk(\"./data/rumour\")"
   ]
  },
  {
   "cell_type": "markdown",
   "metadata": {},
   "source": [
    "# build a only sorce dataset"
   ]
  },
  {
   "cell_type": "code",
   "execution_count": 8,
   "metadata": {},
   "outputs": [],
   "source": [
    "# build train dataset\n",
    "import re\n",
    "def build_dict_simple(data,label=None):\n",
    "    _dict = {\"text\":[],\"label\":[]}\n",
    "    with open(data,\"r\") as data:\n",
    "        if label is not None:\n",
    "            with open(label,\"r\") as label:\n",
    "                tid_list = data.readlines()\n",
    "                label_list = label.readlines()\n",
    "                assert(len(tid_list)==len(label_list))\n",
    "                for i in range(len(tid_list)): # each line of sample\n",
    "                    tids = tid_list[i]\n",
    "                    _label = label_list[i].replace(\"\\n\",\"\")\n",
    "                    if _label == \"rumour\":\n",
    "                        _label = 1\n",
    "                    elif _label == \"nonrumour\":\n",
    "                        _label = 0\n",
    "                    tids = tids.replace(\"\\n\",\"\")\n",
    "                    tids = tids.split(\",\")\n",
    "                    text =\"\"\n",
    "\n",
    "                    tids=[tids[0]]\n",
    "                    for tid in tids: # each entity of a line\n",
    "                        t = tweets[tid]\n",
    "                        if type(t) is type(dict()):\n",
    "                            _text = t[\"text\"]\n",
    "                            _text = _text.replace(\"\\n\",\"\")\n",
    "                            #print(results)\n",
    "                            _text= re.sub('http[s]?://\\S+', '', _text)\n",
    "                            text+=_text\n",
    "                            #print(_text)\n",
    "                    #print(text)\n",
    "                    #print(\"=\"*20,_label)\n",
    "                    _dict[\"text\"].append(text)\n",
    "                    _dict[\"label\"].append(_label)\n",
    "        else:\n",
    "            tid_list = data.readlines()\n",
    "            for i in range(len(tid_list)): # each line of sample\n",
    "                tids = tid_list[i]\n",
    "                _label = -1\n",
    "                tids = tids.replace(\"\\n\",\"\")\n",
    "                tids = tids.split(\",\")\n",
    "                text =\"\"\n",
    "                for tid in tids: # each entity of a line\n",
    "                    t = tweets[tid]\n",
    "                    if type(t) is type(dict()):\n",
    "                        _text = t[\"text\"]\n",
    "                        _text = _text.replace(\"\\n\",\"\")\n",
    "                        #print(results)\n",
    "                        _text= re.sub('http[s]?://\\S+', '', _text)\n",
    "                        text+=_text\n",
    "                        #print(_text)\n",
    "                #print(text)\n",
    "                #print(\"=\"*20,_label)\n",
    "                _dict[\"text\"].append(text)\n",
    "                _dict[\"label\"].append(_label)\n",
    "\n",
    "    return _dict\n",
    "train_dict_simple=build_dict_simple(\"train.data.txt\",\"train.label.txt\")\n",
    "dev_dict_simple = build_dict_simple(\"dev.data.txt\",\"dev.label.txt\")\n",
    "#test_dict = build_dict(\"test.data.txt\")"
   ]
  },
  {
   "cell_type": "code",
   "execution_count": 10,
   "metadata": {},
   "outputs": [
    {
     "name": "stdout",
     "output_type": "stream",
     "text": [
      "DatasetDict({\n",
      "    train: Dataset({\n",
      "        features: ['text', 'label'],\n",
      "        num_rows: 1895\n",
      "    })\n",
      "    dev: Dataset({\n",
      "        features: ['text', 'label'],\n",
      "        num_rows: 632\n",
      "    })\n",
      "})\n"
     ]
    }
   ],
   "source": [
    "train_set = Dataset.from_dict(train_dict_simple)\n",
    "dev_set = Dataset.from_dict(dev_dict_simple)\n",
    "\n",
    "from datasets import dataset_dict\n",
    "data_dict = {\"train\":train_set,\"dev\":dev_set} \n",
    "dataset=dataset_dict.DatasetDict(data_dict)\n",
    "print(dataset)\n",
    "dataset.save_to_disk(\"./data/rumour_s\")"
   ]
  }
 ],
 "metadata": {
  "interpreter": {
   "hash": "858a027402f8a491f6ad0808024d199fce3944cfb72e60e38734051a8b0d4797"
  },
  "kernelspec": {
   "display_name": "Python 3.9.12 ('nlp-proj')",
   "language": "python",
   "name": "python3"
  },
  "language_info": {
   "codemirror_mode": {
    "name": "ipython",
    "version": 3
   },
   "file_extension": ".py",
   "mimetype": "text/x-python",
   "name": "python",
   "nbconvert_exporter": "python",
   "pygments_lexer": "ipython3",
   "version": "3.9.12"
  },
  "orig_nbformat": 4
 },
 "nbformat": 4,
 "nbformat_minor": 2
}
