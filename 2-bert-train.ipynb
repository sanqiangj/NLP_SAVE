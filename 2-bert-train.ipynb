{
 "cells": [
  {
   "cell_type": "markdown",
   "metadata": {},
   "source": [
    "# Bert-Train\n",
    "\n",
    "This file is used to train the base-bert model,\n",
    "and save the checkpoint to ./bert-results/checkpoint-xxxx\n",
    "\n",
    "Author: Xiaofeng Zhang\n",
    "\n",
    "Email: Xiaofzhang1@student.unimelb.edu.au\n",
    "\n",
    "SID: 1194655\n",
    "\n",
    "Reference: https://huggingface.co/docs/transformers/tasks/sequence_classification"
   ]
  },
  {
   "cell_type": "code",
   "execution_count": null,
   "metadata": {},
   "outputs": [],
   "source": [
    "from transformers import AutoTokenizer\n",
    "from transformers import DataCollatorWithPadding\n",
    "from transformers import AutoModelForSequenceClassification, TrainingArguments, Trainer\n",
    "import torch\n",
    "import numpy as np"
   ]
  },
  {
   "cell_type": "markdown",
   "metadata": {},
   "source": [
    "# Load Dataset"
   ]
  },
  {
   "cell_type": "code",
   "execution_count": null,
   "metadata": {},
   "outputs": [],
   "source": [
    "from datasets import load_from_disk\n",
    "rumour = load_from_disk(\"./data/rumour\")"
   ]
  },
  {
   "cell_type": "markdown",
   "metadata": {},
   "source": [
    "# Preprocess"
   ]
  },
  {
   "cell_type": "markdown",
   "metadata": {},
   "source": [
    "## Tokenize"
   ]
  },
  {
   "cell_type": "code",
   "execution_count": null,
   "metadata": {},
   "outputs": [],
   "source": [
    "tokenizer = AutoTokenizer.from_pretrained(\"bert-base-uncased\")\n",
    "def preprocess_function(examples):\n",
    "    return tokenizer(examples[\"text\"], truncation=True)\n",
    "tokenized_rumour = rumour.map(preprocess_function, batched=True)"
   ]
  },
  {
   "cell_type": "markdown",
   "metadata": {},
   "source": [
    "## Padding"
   ]
  },
  {
   "cell_type": "code",
   "execution_count": null,
   "metadata": {},
   "outputs": [],
   "source": [
    "data_collator = DataCollatorWithPadding(tokenizer=tokenizer)"
   ]
  },
  {
   "cell_type": "markdown",
   "metadata": {},
   "source": [
    "# Train"
   ]
  },
  {
   "cell_type": "code",
   "execution_count": null,
   "metadata": {},
   "outputs": [],
   "source": [
    "model = AutoModelForSequenceClassification.from_pretrained(\"bert-base-uncased\", num_labels=2)"
   ]
  },
  {
   "cell_type": "code",
   "execution_count": null,
   "metadata": {},
   "outputs": [],
   "source": [
    "training_args = TrainingArguments(\n",
    "    output_dir=\"./bert-results\",\n",
    "    learning_rate=2e-5,\n",
    "    per_device_train_batch_size=4,\n",
    "    per_device_eval_batch_size=4,\n",
    "    num_train_epochs=40,\n",
    "    weight_decay=0.01,\n",
    ")\n",
    "\n",
    "trainer = Trainer(\n",
    "    \n",
    "    model=model,\n",
    "    args=training_args,\n",
    "    train_dataset=tokenized_rumour[\"train\"],\n",
    "    eval_dataset=tokenized_rumour[\"dev\"],\n",
    "    tokenizer=tokenizer,\n",
    "    data_collator=data_collator,\n",
    ")\n",
    "\n",
    "trainer.train()"
   ]
  },
  {
   "cell_type": "markdown",
   "metadata": {},
   "source": [
    "# Write predict result"
   ]
  },
  {
   "cell_type": "code",
   "execution_count": null,
   "metadata": {},
   "outputs": [],
   "source": [
    "model.eval()\n",
    "with open (\"test.predict.csv\",\"w\") as f:\n",
    "    f.write(\"Id,Predicted\\n\")\n",
    "\n",
    "    for i in range(len(tokenized_rumour[\"test\"])):\n",
    "        \n",
    "            _input = tokenized_rumour[\"test\"][i]['input_ids']\n",
    "            _mask = tokenized_rumour[\"test\"][i]['attention_mask']\n",
    "            model.to(\"cuda\")\n",
    "            _input = torch.tensor(_input).unsqueeze(0).to(\"cuda\")\n",
    "            _mask = torch.tensor(_mask).unsqueeze(0).to(\"cuda\")\n",
    "            #a= tokenizer.decode(_input)\n",
    "\n",
    "            y=model(input_ids=_input,attention_mask=_mask)\n",
    "            res = np.argmax(y.logits.detach().cpu().numpy())\n",
    "            #label = tokenized_rumour[\"dev\"][i][\"label\"]\n",
    "            \n",
    "            f.write(\"{0},{1}\\n\".format(i,res))\n"
   ]
  }
 ],
 "metadata": {
  "interpreter": {
   "hash": "858a027402f8a491f6ad0808024d199fce3944cfb72e60e38734051a8b0d4797"
  },
  "kernelspec": {
   "display_name": "Python 3.9.12 ('nlp-proj')",
   "language": "python",
   "name": "python3"
  },
  "language_info": {
   "codemirror_mode": {
    "name": "ipython",
    "version": 3
   },
   "file_extension": ".py",
   "mimetype": "text/x-python",
   "name": "python",
   "nbconvert_exporter": "python",
   "pygments_lexer": "ipython3",
   "version": "3.9.12"
  },
  "orig_nbformat": 4
 },
 "nbformat": 4,
 "nbformat_minor": 2
}
