{
 "cells": [
  {
   "cell_type": "code",
   "execution_count": 1,
   "id": "6cc43160",
   "metadata": {
    "ExecuteTime": {
     "end_time": "2022-05-12T08:31:09.467463Z",
     "start_time": "2022-05-12T08:31:08.258010Z"
    }
   },
   "outputs": [
    {
     "name": "stderr",
     "output_type": "stream",
     "text": [
      "\n",
      "KeyboardInterrupt\n",
      "\n"
     ]
    }
   ],
   "source": [
    "import numpy as np\n",
    "import os\n",
    "import tweepy\n",
    "import json\n",
    "import time\n",
    "\n",
    "#data_dict = {}\n",
    "#np.save(\"tweets_train.npy\",data_dict)"
   ]
  },
  {
   "cell_type": "code",
   "execution_count": null,
   "id": "42a98da4",
   "metadata": {
    "ExecuteTime": {
     "end_time": "2022-05-12T08:31:09.474443Z",
     "start_time": "2022-05-12T08:31:09.474443Z"
    }
   },
   "outputs": [],
   "source": [
    "# get all tweets id\n",
    "covid_set = set()\n",
    "with open(\"covid.data.txt\",\"r\") as covid:\n",
    "    \n",
    "    ids=covid.readline()\n",
    "    while ids :\n",
    "        ids = ids.replace(\"\\n\",\"\")\n",
    "        ids = ids.split(\",\")\n",
    "        #print(ids)\n",
    "        for id in ids:\n",
    "            covid_set.add(id)\n",
    "        ids = covid.readline()\n",
    "print(len(covid_set))\n"
   ]
  },
  {
   "cell_type": "code",
   "execution_count": null,
   "id": "b6e0f213",
   "metadata": {
    "ExecuteTime": {
     "end_time": "2022-05-12T08:31:09.477435Z",
     "start_time": "2022-05-12T08:31:09.477435Z"
    }
   },
   "outputs": [],
   "source": [
    "covid_dict = {}\n",
    "np.save(\"covid.npy\",covid_dict)\n",
    "covid_dict = np.load(\"covid.npy\",allow_pickle=True).item()"
   ]
  },
  {
   "cell_type": "code",
   "execution_count": null,
   "id": "c5d17a4a",
   "metadata": {
    "ExecuteTime": {
     "end_time": "2022-05-12T08:31:09.480429Z",
     "start_time": "2022-05-12T08:31:09.480429Z"
    }
   },
   "outputs": [],
   "source": [
    "for id in covid_set:\n",
    "    if id not in covid_dict:\n",
    "        covid_dict[id] = None\n",
    "#print(type(id))\n",
    "np.save(\"covid.npy\",covid_dict)"
   ]
  },
  {
   "cell_type": "code",
   "execution_count": null,
   "id": "5c2007d6",
   "metadata": {
    "ExecuteTime": {
     "end_time": "2022-05-12T08:31:09.482424Z",
     "start_time": "2022-05-12T08:31:09.482424Z"
    }
   },
   "outputs": [],
   "source": [
    "covid_dict = np.load(\"covid.npy\",allow_pickle=True).item()"
   ]
  },
  {
   "cell_type": "code",
   "execution_count": null,
   "id": "770e6482",
   "metadata": {
    "ExecuteTime": {
     "end_time": "2022-05-12T08:31:09.494392Z",
     "start_time": "2022-05-12T08:31:09.494392Z"
    }
   },
   "outputs": [],
   "source": [
    "#consumer_key =\"zlQJYMXh1EtOU7PlMGS6y1Csi\"\n",
    "#consumer_secret =\"ShDpCD9CJeB4Kx7ezkPAVKNfkR366jzlkSZabevJcUJi2jS4vE\"\n",
    "#access_token = \"752496493794320384-vDq6SSRQANpVWtenRC5CPmiss5z092P\"\n",
    "#access_token_secret = \"nC5Bgad1fAALcdWMJzCIS2bWdBZ69qEDC727fF25TH4gG\"\n",
    "#bearer_token = \"AAAAAAAAAAAAAAAAAAAAAMDtbgEAAAAAA7UEP%2Bsa1isscmEGBbHbwkcWAyQ%3DGlMemjFdf9qwTY4Q1V85FgeIGdMGbak0o1vHBKcpfXMPMQU9Fy\"\n",
    "\n",
    "consumer_key =\"wvaQ34V1obKofovVVrJDeTi3e\"\n",
    "consumer_secret =\"eYmpMZCMZKEgXSoWtOEmtiXJTWwHifJVEuCNSVhM4rK7CF9e7w\"\n",
    "access_token = \"887681544617312256-Xvus1dCS1PsS9jYB9iFh9KBi3lsCxsJ\"\n",
    "access_token_secret = \"uFZLLSPLCa3thfbgFTwzjKgBJwKrVjQWFTcd0EJMuYst4\"\n",
    "bearer_token = \"AAAAAAAAAAAAAAAAAAAAANrvbgEAAAAAk24v8rEjDz4%2B7lxdq98iyvKpjC4%3DLsPyRN4E1F9YSKCRmt9MH63kRSKZ4lFO6qxdDr3xBZslkM9lw7\"\n",
    "\n",
    "\n",
    "covid_data = \"covid.data.txt\"\n",
    "#train_data = \"train.data.txt\"\n",
    "#train_label = \"train.label.txt\"\n",
    "\n",
    "client = tweepy.Client(bearer_token=bearer_token)\n",
    "\n",
    "#data_dict = np.load(\"tweets.npy\",allow_pickle=True).item()\n",
    "covid_dict = np.load(\"covid.npy\",allow_pickle=True).item()\n",
    "\n",
    "covid_100_list = []\n",
    "covid_list = list(covid_set)\n",
    "   \n",
    "for i in range(0,len(covid_list),100):\n",
    "    templist = covid_list[i:i+100]\n",
    "    covid_100_list.append(templist)   \n",
    "for i in range(len(covid_100_list)):\n",
    "    ids = covid_100_list[i]\n",
    "    head = ids[0]\n",
    "\n",
    "    temp_t = [covid_dict[id] for id in ids]\n",
    "    if (any(t is None for t in temp_t) ):\n",
    "        print(\"\")\n",
    "        #print(temp_t)\n",
    "\n",
    "    try:\n",
    "        print(i)\n",
    "        Flag = False\n",
    "        if (any(t is None for t in temp_t) ):\n",
    "            Flag = True\n",
    "\n",
    "        if Flag:\n",
    "            tweets = client.get_tweets(ids=ids, tweet_fields=['context_annotations','created_at','geo','author_id'])\n",
    "       \n",
    "            for tweet in tweets.data:\n",
    "                #print(tweet.id)\n",
    "                covid_dict[str(tweet.id)] = {'text':tweet.text,'created_at':tweet.created_at,\"author_id\":tweet.author_id}\n",
    "                #print(tweet.text)\n",
    "                #print(tweet.created_at)\n",
    "                #print('*'*10)\n",
    "            #print(tweets.errors)\n",
    "            for tweet in tweets.errors:\n",
    "                covid_dict[str(tweet['value'])] = tweet['title']\n",
    "                #print(data_dict[str(tweet['value'])])\n",
    "            print(i,\"success\")\n",
    "        else:\n",
    "            print(i,\"passed\")\n",
    "            pass\n",
    "    except Exception as e:\n",
    "        print(i,e)\n",
    "        \n",
    "        np.save(\"covid.npy\",covid_dict)\n",
    "        break\n",
    "\n",
    "\n",
    "#print(data_dict)\n",
    "\n",
    "np.save(\"covid.npy\",covid_dict)\n"
   ]
  },
  {
   "cell_type": "code",
   "execution_count": null,
   "id": "860c0fd5",
   "metadata": {
    "ExecuteTime": {
     "end_time": "2022-05-12T08:31:09.504362Z",
     "start_time": "2022-05-12T08:31:09.504362Z"
    }
   },
   "outputs": [],
   "source": [
    "np.save(\"covid.npy\",covid_dict)"
   ]
  }
 ],
 "metadata": {
  "kernelspec": {
   "display_name": "Python 3 (ipykernel)",
   "language": "python",
   "name": "python3"
  },
  "language_info": {
   "codemirror_mode": {
    "name": "ipython",
    "version": 3
   },
   "file_extension": ".py",
   "mimetype": "text/x-python",
   "name": "python",
   "nbconvert_exporter": "python",
   "pygments_lexer": "ipython3",
   "version": "3.8.13"
  }
 },
 "nbformat": 4,
 "nbformat_minor": 5
}
